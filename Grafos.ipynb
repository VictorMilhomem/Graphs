{
  "cells": [
    {
      "cell_type": "code",
      "execution_count": 16,
      "metadata": {},
      "outputs": [],
      "source": [
        "from dataclasses import dataclass, field\n",
        "import math"
      ]
    },
    {
      "cell_type": "markdown",
      "metadata": {},
      "source": [
        "# Undirected Graph using Adjacency List"
      ]
    },
    {
      "cell_type": "code",
      "execution_count": 32,
      "metadata": {},
      "outputs": [],
      "source": [
        "@dataclass(eq=True, frozen=True)\n",
        "class Node:\n",
        "    id: int\n",
        "    attributes: dict = field(default_factory=dict, compare=False, hash=False)\n",
        "\n",
        "@dataclass\n",
        "class Graph:\n",
        "    nodes: list[Node] = field(default_factory=list)\n",
        "    edges: list[tuple] = field(default_factory=list)\n",
        "    G: dict = field(default_factory=dict)\n",
        "    degree: dict = field(default_factory=dict)\n",
        "\n",
        "    def number_of_nodes(self):\n",
        "        return len(self.G)\n",
        "\n",
        "    def get_node(self, node_id: int) -> Node:\n",
        "        for n in self.nodes:\n",
        "            if n.id == node_id:\n",
        "                return n\n",
        "        new_node = Node(node_id)\n",
        "        self.nodes.append(new_node)\n",
        "        self.G[new_node] = []\n",
        "        return new_node\n",
        "\n",
        "    def add_node(self, node_id: int, attributes: dict = {}) -> None:\n",
        "        if any(n.id == node_id for n in self.nodes):\n",
        "            raise IndexError(\"Vertice already exists\")\n",
        "        node = Node(node_id, attributes)\n",
        "        self.nodes.append(node)\n",
        "        self.G[node] = []\n",
        "\n",
        "    def add_edge(self, value: tuple) -> None:\n",
        "        if len(value) != 2:\n",
        "            raise AssertionError(\"The edge must be a 2-tuple\")\n",
        "\n",
        "        v1 = self.get_node(value[0])\n",
        "        v2 = self.get_node(value[1])\n",
        "\n",
        "        self.G[v1].append(v2)\n",
        "        self.G[v2].append(v1)\n",
        "        self.edges.append(value)\n",
        "        self.degree[v1] = len(self.G[v1])\n",
        "        self.degree[v2] = len(self.G[v2])\n",
        "\n",
        "    def dfs(self, start_id: int) -> tuple:\n",
        "        start = self.get_node(start_id) \n",
        "        cpre = 0\n",
        "        pre = {}\n",
        "        dfs_tree = []\n",
        "\n",
        "        def run(u, p=None):\n",
        "            nonlocal cpre\n",
        "            cpre += 1\n",
        "            pre[u] = cpre\n",
        "\n",
        "            for w in self.G[u]:\n",
        "                if w not in pre:\n",
        "                    dfs_tree.append((u, w))\n",
        "                    run(w, u)\n",
        "\n",
        "        run(start)\n",
        "        return pre, dfs_tree\n",
        "    \n",
        "    def is_connected(self) -> bool:\n",
        "        cpre = 0\n",
        "        pre = {}\n",
        "        c = 0\n",
        "\n",
        "        def run(u, p=None):\n",
        "            nonlocal cpre\n",
        "            cpre += 1\n",
        "            pre[u] = cpre\n",
        "\n",
        "            for w in self.G[u]:\n",
        "                if w not in pre:\n",
        "                    run(w, u)\n",
        "        \n",
        "        for node in self.nodes:\n",
        "            if node not in pre:\n",
        "                c += 1\n",
        "                run(node)\n",
        "        return c <= 1\n",
        "    \n",
        "    def connected_components(self) -> tuple:\n",
        "        pass\n",
        "\n",
        "    def bridges(self) -> list[tuple] :\n",
        "        cpre = 0\n",
        "        pre = {}\n",
        "        low = {}\n",
        "        bridges = []\n",
        "\n",
        "        def run(u, p=None):\n",
        "            nonlocal cpre\n",
        "            cpre += 1\n",
        "            pre[u] = cpre\n",
        "            low[u] = pre[u]\n",
        "\n",
        "            for w in self.G[u]:\n",
        "                if w not in pre:\n",
        "                    run(w, u)\n",
        "                    if low[w] == pre[w]:\n",
        "                        bridges.append((u, w))\n",
        "                    low[u] = min(low[u], low[w])\n",
        "                if w != p:\n",
        "                    low[u] = min(low[u], pre[w])\n",
        "                    \n",
        "        for node in self.nodes:\n",
        "            if node not in pre:\n",
        "                run(node)\n",
        "        return bridges\n",
        "    \n",
        "    def points(self) -> list :\n",
        "        cpre = 0\n",
        "        pre = {}\n",
        "        low = {}\n",
        "        pa = {}\n",
        "        articular_points = []\n",
        "\n",
        "        def run(u, p=None):\n",
        "            nonlocal cpre\n",
        "            cpre += 1\n",
        "            pre[u] = cpre\n",
        "            low[u] = cpre\n",
        "            pa[u] = 0\n",
        "\n",
        "            for w in self.G[u]:\n",
        "                if w not in pre:\n",
        "                    run(w, u)\n",
        "                    if pre[u] <= low[w]:\n",
        "                        pa[u] += 1\n",
        "                    low[u] = min(low[u], low[w])\n",
        "                if w != p:\n",
        "                    low[u] = min(low[u], pre[w])\n",
        "                    \n",
        "        for node in self.nodes:\n",
        "            if node not in pre:\n",
        "                run(node)\n",
        "        \n",
        "        for i, node in enumerate(self.nodes):\n",
        "            if (i == 0) and pa[node] > 1:\n",
        "                articular_points.append(node)\n",
        "            elif (i != 0) and pa[node] > 0:\n",
        "                articular_points.append(node)\n",
        "                \n",
        "        return articular_points\n",
        "        "
      ]
    },
    {
      "cell_type": "code",
      "execution_count": 4,
      "metadata": {},
      "outputs": [
        {
          "name": "stdout",
          "output_type": "stream",
          "text": [
            "Ordem de visita (pre): [2, 1, 3, 5, 4, 6, 10, 7, 9, 8]\n",
            "DFS Tree: [(2, 1), (1, 3), (3, 5), (5, 4), (1, 6), (6, 10), (2, 7), (7, 9), (9, 8)]\n"
          ]
        }
      ],
      "source": [
        "g = Graph()\n",
        "edges = [\n",
        "    (1, 2), (1, 3), (1, 4), (1, 6),\n",
        "    (2, 7), (2, 8), (2, 10),\n",
        "    (3, 5),\n",
        "    (4, 5),\n",
        "    (6, 10),\n",
        "    (7, 9),\n",
        "    (8, 9)\n",
        "]\n",
        "\n",
        "for edge in edges:\n",
        "    g.add_edge(edge)\n",
        "\n",
        "pre, dfs_tree = g.dfs(2)\n",
        "print(\"Ordem de visita (pre):\", [n.id for n, t in pre.items()])\n",
        "print(\"DFS Tree:\", [(u.id, v.id) for u, v in dfs_tree])"
      ]
    },
    {
      "cell_type": "code",
      "execution_count": 8,
      "metadata": {},
      "outputs": [
        {
          "data": {
            "text/plain": [
              "True"
            ]
          },
          "execution_count": 8,
          "metadata": {},
          "output_type": "execute_result"
        }
      ],
      "source": [
        "g.is_connected()"
      ]
    },
    {
      "cell_type": "code",
      "execution_count": 15,
      "metadata": {},
      "outputs": [
        {
          "data": {
            "text/plain": [
              "4"
            ]
          },
          "execution_count": 15,
          "metadata": {},
          "output_type": "execute_result"
        }
      ],
      "source": [
        "g.degree[g.get_node(1)]"
      ]
    },
    {
      "cell_type": "code",
      "execution_count": 9,
      "metadata": {},
      "outputs": [
        {
          "name": "stdout",
          "output_type": "stream",
          "text": [
            "Ordem de visita (pre): [3, 2, 1, 4]\n",
            "DFS Tree: [(3, 2), (2, 1), (3, 4)]\n"
          ]
        }
      ],
      "source": [
        "gg = Graph()\n",
        "gg.add_node(1)\n",
        "gg.add_node(2)\n",
        "gg.add_node(3)\n",
        "gg.add_node(4)\n",
        "gg.add_node(5)\n",
        "\n",
        "gg.add_edge((1,2))\n",
        "gg.add_edge((2,3))\n",
        "gg.add_edge((3,4))\n",
        "\n",
        "\n",
        "pre, dfs_tree = gg.dfs(3)\n",
        "print(\"Ordem de visita (pre):\", [n.id for n, t in pre.items()])\n",
        "print(\"DFS Tree:\", [(u.id, v.id) for u, v in dfs_tree])"
      ]
    },
    {
      "cell_type": "code",
      "execution_count": 10,
      "metadata": {},
      "outputs": [
        {
          "data": {
            "text/plain": [
              "[(1, 2), (2, 3), (3, 4)]"
            ]
          },
          "execution_count": 10,
          "metadata": {},
          "output_type": "execute_result"
        }
      ],
      "source": [
        "gg.edges"
      ]
    },
    {
      "cell_type": "code",
      "execution_count": 11,
      "metadata": {},
      "outputs": [
        {
          "data": {
            "text/plain": [
              "[Node(id=1, attributes={}),\n",
              " Node(id=2, attributes={}),\n",
              " Node(id=3, attributes={}),\n",
              " Node(id=4, attributes={}),\n",
              " Node(id=5, attributes={})]"
            ]
          },
          "execution_count": 11,
          "metadata": {},
          "output_type": "execute_result"
        }
      ],
      "source": [
        "gg.nodes"
      ]
    },
    {
      "cell_type": "code",
      "execution_count": 12,
      "metadata": {},
      "outputs": [
        {
          "data": {
            "text/plain": [
              "False"
            ]
          },
          "execution_count": 12,
          "metadata": {},
          "output_type": "execute_result"
        }
      ],
      "source": [
        "gg.is_connected()"
      ]
    },
    {
      "cell_type": "code",
      "execution_count": 23,
      "metadata": {},
      "outputs": [
        {
          "data": {
            "text/plain": [
              "[(Node(id=5, attributes={}), Node(id=6, attributes={}))]"
            ]
          },
          "execution_count": 23,
          "metadata": {},
          "output_type": "execute_result"
        }
      ],
      "source": [
        "ggg = Graph()\n",
        "edges = [\n",
        "    (1, 2), (1, 3),\n",
        "    (2, 4), (2, 5),\n",
        "    (3, 5),\n",
        "    (4, 5),\n",
        "    (5, 6),\n",
        "    (6, 8), (6, 7),\n",
        "    (8, 7)\n",
        "]\n",
        "\n",
        "for edge in edges:\n",
        "    ggg.add_edge(edge)\n",
        "\n",
        "ggg.bridges()"
      ]
    },
    {
      "cell_type": "code",
      "execution_count": 24,
      "metadata": {},
      "outputs": [
        {
          "data": {
            "text/plain": [
              "[Node(id=5, attributes={}), Node(id=6, attributes={})]"
            ]
          },
          "execution_count": 24,
          "metadata": {},
          "output_type": "execute_result"
        }
      ],
      "source": [
        "ggg.points()"
      ]
    },
    {
      "cell_type": "code",
      "execution_count": 33,
      "metadata": {},
      "outputs": [
        {
          "data": {
            "text/plain": [
              "[Node(id=2, attributes={})]"
            ]
          },
          "execution_count": 33,
          "metadata": {},
          "output_type": "execute_result"
        }
      ],
      "source": [
        "t = Graph()\n",
        "t.add_edge((1,2))\n",
        "t.add_edge( (2,3))\n",
        "t.points()"
      ]
    },
    {
      "cell_type": "code",
      "execution_count": null,
      "metadata": {},
      "outputs": [],
      "source": []
    }
  ],
  "metadata": {
    "colab": {
      "provenance": []
    },
    "kernelspec": {
      "display_name": "base",
      "language": "python",
      "name": "python3"
    },
    "language_info": {
      "codemirror_mode": {
        "name": "ipython",
        "version": 3
      },
      "file_extension": ".py",
      "mimetype": "text/x-python",
      "name": "python",
      "nbconvert_exporter": "python",
      "pygments_lexer": "ipython3",
      "version": "3.11.7"
    }
  },
  "nbformat": 4,
  "nbformat_minor": 0
}
